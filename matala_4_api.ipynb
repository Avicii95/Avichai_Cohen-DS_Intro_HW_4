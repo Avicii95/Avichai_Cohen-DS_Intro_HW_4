{
 "cells": [
  {
   "cell_type": "code",
   "execution_count": null,
   "id": "4234b93c",
   "metadata": {},
   "outputs": [],
   "source": [
    "import requests\n",
    "import json"
   ]
  },
  {
   "cell_type": "code",
   "execution_count": null,
   "id": "b7019606",
   "metadata": {},
   "outputs": [],
   "source": [
    "dist = dict()\n",
    "key = \"please enter your key\"\n",
    "## enter the path and the file name\n",
    "file = open(\"C:/Users/avich/OneDrive/documents/New folder/dests.txt\")\n",
    "data = []\n",
    "## the informetion of the distance saving \n",
    "for line in file:\n",
    "    data.append(line.strip())\n",
    "## the url with all the cities\n",
    "url = \"https://maps.googleapis.com/maps/api/distancematrix/json?origins=jerusalem&destinations=\" + \"|\".join(data)+ \"&key=\" + key\n",
    "try:\n",
    "    response = requests.get(url)\n",
    "    if not response.status_code == 200\n",
    "      print(\"http error\")\n",
    "    else:\n",
    "        response = requests.get(url)\n",
    "        response_json = response.json()\n",
    "\n",
    "except:\n",
    "    print(\"something went wrong with requests.get\")\n",
    "    "
   ]
  },
  {
   "cell_type": "code",
   "execution_count": null,
   "id": "e0c92bae",
   "metadata": {},
   "outputs": [],
   "source": [
    "## saving in the informetion of the lat and lng\n",
    "url_location = \"https://maps.googleapis.com/maps/api/geocode/json?address=\" + \"|\".join(data) + \"&key=\" + key\n",
    "response = requests.get(url_location)\n",
    "if not response.status_code == 200:\n",
    "    print(\"http error\")\n",
    "else :\n",
    "    response = requests.get(url_location)\n",
    "    loc_json = response.json()\n"
   ]
  },
  {
   "cell_type": "code",
   "execution_count": null,
   "id": "477138fa",
   "metadata": {},
   "outputs": [],
   "source": [
    "## prints' the distance and duration\n",
    "for i in range(len(data)):\n",
    "    x =  \"\\n distance from Jerusalem: \" + response_json['rows'][0]['elements'][i]['distance']['text'] + \"; duration: \"\n",
    "    time = str(round(response_json['rows'][0]['elements'][i]['duration']['value']/60))\n",
    "    print(data[i] + x + time)\n",
    "    \n",
    "    "
   ]
  },
  {
   "cell_type": "code",
   "execution_count": null,
   "id": "d0463a25",
   "metadata": {
    "scrolled": true
   },
   "outputs": [],
   "source": [
    "for i in range(len(data)):\n",
    "    x = data[i] + \"\\n\" + str(loc_json['results'][i]['geometry']['location'])\n",
    "    print(x)\n",
    "    "
   ]
  },
  {
   "cell_type": "code",
   "execution_count": null,
   "id": "f2b191ef",
   "metadata": {},
   "outputs": [],
   "source": [
    "for i in range(len(data)):\n",
    "    x = response_json['rows'][0]['elements'][i]['distance']['text']\n",
    "    time = str(response_json['rows'][0]['elements'][i]['duration']['text'])\n",
    "    lat = loc_json['results'][i]['geometry']['location']['lat']\n",
    "    lng = loc_json['results'][i]['geometry']['location']['lng']\n",
    "    info_ = (x, time,lat,lng)\n",
    "    dist[data[i]] = info\n",
    "\n",
    "for i in dist:\n",
    "    print(i, \"\\n distance from Jerusalem: \", dist[i][0], \"\\n The duration: \",dist[i][1],\"\\n lat:\", dist[i][2], \"\\n lng:\", dist[i][3])\n"
   ]
  },
  {
   "cell_type": "code",
   "execution_count": null,
   "id": "6c6ded76",
   "metadata": {},
   "outputs": [],
   "source": [
    "## the 3 cities furthest from Jerusalem\n",
    "far = []\n",
    "for i in dist:\n",
    "    far.append(int(dist[i][0].split()[0].replace(\",\", \"\")))\n",
    "far.sort(reverse = True)\n",
    "print (\"The 3 furthest cities from Jerusalem are:\")\n",
    "for i in range(3):\n",
    "    for k,v in dist.items():\n",
    "        z = v[0].split()[0].replace(\",\", \"\")\n",
    "        z = int(z)\n",
    "        if z==far[i]:\n",
    "            print(k, far[i], \"km from Jerusalem\")"
   ]
  }
 ],
 "metadata": {
  "kernelspec": {
   "display_name": "Python 3 (ipykernel)",
   "language": "python",
   "name": "python3"
  },
  "language_info": {
   "codemirror_mode": {
    "name": "ipython",
    "version": 3
   },
   "file_extension": ".py",
   "mimetype": "text/x-python",
   "name": "python",
   "nbconvert_exporter": "python",
   "pygments_lexer": "ipython3",
   "version": "3.9.7"
  }
 },
 "nbformat": 4,
 "nbformat_minor": 5
}
